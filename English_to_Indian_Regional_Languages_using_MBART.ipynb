{
  "nbformat": 4,
  "nbformat_minor": 0,
  "metadata": {
    "colab": {
      "provenance": [],
      "gpuType": "T4"
    },
    "kernelspec": {
      "name": "python3",
      "display_name": "Python 3"
    },
    "language_info": {
      "name": "python"
    },
    "accelerator": "GPU"
  },
  "cells": [
    {
      "cell_type": "code",
      "execution_count": 23,
      "metadata": {
        "colab": {
          "base_uri": "https://localhost:8080/"
        },
        "id": "6ATPHl4etIGO",
        "outputId": "fc42cf61-cc90-434e-edbd-a64b32baddf5"
      },
      "outputs": [
        {
          "output_type": "stream",
          "name": "stdout",
          "text": [
            "\u001b[2K     \u001b[90m━━━━━━━━━━━━━━━━━━━━━━━━━━━━━━━━━━━━━━━━\u001b[0m \u001b[32m44.4/44.4 kB\u001b[0m \u001b[31m2.9 MB/s\u001b[0m eta \u001b[36m0:00:00\u001b[0m\n",
            "\u001b[2K   \u001b[90m━━━━━━━━━━━━━━━━━━━━━━━━━━━━━━━━━━━━━━━━\u001b[0m \u001b[32m9.9/9.9 MB\u001b[0m \u001b[31m79.7 MB/s\u001b[0m eta \u001b[36m0:00:00\u001b[0m\n",
            "\u001b[2K   \u001b[90m━━━━━━━━━━━━━━━━━━━━━━━━━━━━━━━━━━━━━━━━\u001b[0m \u001b[32m3.0/3.0 MB\u001b[0m \u001b[31m76.6 MB/s\u001b[0m eta \u001b[36m0:00:00\u001b[0m\n",
            "\u001b[?25hRequirement already satisfied: sentencepiece in /usr/local/lib/python3.10/dist-packages (0.2.0)\n"
          ]
        }
      ],
      "source": [
        "!pip install transformers -U -q\n",
        "! pip install sentencepiece\n"
      ]
    },
    {
      "cell_type": "code",
      "source": [
        "!pip freeze | grep transformers"
      ],
      "metadata": {
        "colab": {
          "base_uri": "https://localhost:8080/"
        },
        "id": "UyWyTkfqtStj",
        "outputId": "d882822a-65d5-451b-a879-e1031e5d5ea3"
      },
      "execution_count": 24,
      "outputs": [
        {
          "output_type": "stream",
          "name": "stdout",
          "text": [
            "transformers==4.45.2\n"
          ]
        }
      ]
    },
    {
      "cell_type": "code",
      "source": [
        "from transformers import MBartForConditionalGeneration, MBart50TokenizerFast"
      ],
      "metadata": {
        "id": "TqhLMmGNtmUI"
      },
      "execution_count": 25,
      "outputs": []
    },
    {
      "cell_type": "code",
      "source": [
        "model = MBartForConditionalGeneration.from_pretrained(\"facebook/mbart-large-50-one-to-many-mmt\")\n"
      ],
      "metadata": {
        "id": "YyjtvtIGtp48"
      },
      "execution_count": 26,
      "outputs": []
    },
    {
      "cell_type": "code",
      "source": [
        "tokenizer = MBart50TokenizerFast.from_pretrained(\"facebook/mbart-large-50-one-to-many-mmt\", src_lang=\"en_XX\")"
      ],
      "metadata": {
        "id": "4W5zbm4xt8bH"
      },
      "execution_count": 27,
      "outputs": []
    },
    {
      "cell_type": "code",
      "source": [
        "language_codes = {\n",
        "    \"Hindi\": \"hi_IN\",\n",
        "    \"Gujarati\": \"gu_IN\",\n",
        "    \"Bengali\": \"bn_IN\",\n",
        "    \"Tamil\": \"ta_IN\",\n",
        "    \"Telugu\": \"te_IN\"\n",
        "}"
      ],
      "metadata": {
        "id": "qPKXge6uuHb_"
      },
      "execution_count": 28,
      "outputs": []
    },
    {
      "cell_type": "code",
      "source": [
        "def translate_text(text, target_lang_code):\n",
        "    # Tokenize the input text\n",
        "    model_inputs = tokenizer(text, return_tensors=\"pt\")\n",
        "\n",
        "    # Generate translation\n",
        "    generated_tokens = model.generate(\n",
        "        **model_inputs,\n",
        "        forced_bos_token_id=tokenizer.lang_code_to_id[target_lang_code]\n",
        "    )\n",
        "\n",
        "    # Decode the translated tokens\n",
        "    translation = tokenizer.batch_decode(generated_tokens, skip_special_tokens=True)\n",
        "    return translation[0]\n",
        "\n",
        "while True:\n",
        "    # Get user input text\n",
        "    text_to_translate = input(\"Enter the text in English (or 'exit' to quit): \")\n",
        "    if text_to_translate.lower() == 'exit':\n",
        "        print(\"Exiting the translation tool.\")\n",
        "        break\n",
        "\n",
        "    # Display available language options\n",
        "    print(\"Available languages:\")\n",
        "    for i, lang in enumerate(language_codes.keys(), 1):\n",
        "        print(f\"{i}. {lang}\")\n",
        "\n",
        "    # Get user choice for target language\n",
        "    lang_choice = input(\"Select the target language (by number): \")\n",
        "\n",
        "    if lang_choice.lower() == 'exit':\n",
        "        print(\"Exiting the translation tool.\")\n",
        "        break\n",
        "\n",
        "    try:\n",
        "        lang_choice = int(lang_choice)  # Convert to integer\n",
        "        if lang_choice < 1 or lang_choice > len(language_codes):\n",
        "            print(\"Invalid choice. Please select a valid language number.\")\n",
        "            continue\n",
        "    except ValueError:\n",
        "        print(\"Invalid input. Please enter a number corresponding to the language or 'exit' to quit.\")\n",
        "        continue\n",
        "\n",
        "    # Get the language code from the user's selection\n",
        "    selected_language = list(language_codes.keys())[lang_choice - 1]\n",
        "    target_language_code = language_codes[selected_language]\n",
        "\n",
        "    # Perform translation\n",
        "    translated_text = translate_text(text_to_translate, target_language_code)\n",
        "    print(f\"Translated text in {selected_language}: {translated_text}\\n\")\n"
      ],
      "metadata": {
        "id": "_KyNpogAuM3E",
        "colab": {
          "base_uri": "https://localhost:8080/"
        },
        "outputId": "a15f799e-c3c9-48db-a69c-9c28d6f68709"
      },
      "execution_count": 30,
      "outputs": [
        {
          "output_type": "stream",
          "name": "stdout",
          "text": [
            "Enter the text in English (or 'exit' to quit): Hello\n",
            "Available languages:\n",
            "1. Hindi\n",
            "2. Gujarati\n",
            "3. Bengali\n",
            "4. Tamil\n",
            "5. Telugu\n",
            "Select the target language (by number): 3\n",
            "Translated text in Bengali: হাইলাই\n",
            "\n",
            "Enter the text in English (or 'exit' to quit): greetings\n",
            "Available languages:\n",
            "1. Hindi\n",
            "2. Gujarati\n",
            "3. Bengali\n",
            "4. Tamil\n",
            "5. Telugu\n",
            "Select the target language (by number): 3\n",
            "Translated text in Bengali: ধন ্ যবাদ\n",
            "\n",
            "Enter the text in English (or 'exit' to quit): exit\n",
            "Exiting the translation tool.\n"
          ]
        }
      ]
    },
    {
      "cell_type": "code",
      "source": [
        "\n"
      ],
      "metadata": {
        "id": "SgyqcFsAua02"
      },
      "execution_count": null,
      "outputs": []
    },
    {
      "cell_type": "code",
      "source": [
        "\n",
        "\n"
      ],
      "metadata": {
        "colab": {
          "base_uri": "https://localhost:8080/"
        },
        "id": "bBA1MmQaui9M",
        "outputId": "43beeea7-e0ac-4795-acc3-583005c70fd8"
      },
      "execution_count": null,
      "outputs": [
        {
          "output_type": "stream",
          "name": "stdout",
          "text": [
            "Writing app.py\n"
          ]
        }
      ]
    },
    {
      "cell_type": "code",
      "source": [],
      "metadata": {
        "id": "XGg3UhZAumzB"
      },
      "execution_count": null,
      "outputs": []
    }
  ]
}